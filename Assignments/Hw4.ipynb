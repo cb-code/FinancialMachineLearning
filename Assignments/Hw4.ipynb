{
  "nbformat": 4,
  "nbformat_minor": 0,
  "metadata": {
    "colab": {
      "name": "5440_Assignment4_chb2132.ipynb",
      "provenance": [],
      "collapsed_sections": []
    },
    "kernelspec": {
      "name": "python3",
      "display_name": "Python 3"
    }
  },
  "cells": [
    {
      "cell_type": "markdown",
      "metadata": {
        "id": "qdVtA23cm2f4"
      },
      "source": [
        "#`5440 Quant. ML/DatSci | SPRING 2021 | ASSIGNMENT 4 | UNI: CHB2132 `#\n",
        "\n",
        "---"
      ]
    },
    {
      "cell_type": "markdown",
      "metadata": {
        "id": "SWc01pptAtG4"
      },
      "source": [
        "##**Problem 1 (10 points)**"
      ]
    },
    {
      "cell_type": "markdown",
      "metadata": {
        "id": "1h4mX-tbS23A"
      },
      "source": [
        "**Part (a) [5 points]**\n",
        "\n",
        "---\n",
        "\n",
        "*Write a computer program that implements the Kalman filter*"
      ]
    },
    {
      "cell_type": "code",
      "metadata": {
        "id": "sOGfctBpZ3VY"
      },
      "source": [
        "# from Columbia Professor William Ritter's lecture notes"
      ],
      "execution_count": null,
      "outputs": []
    },
    {
      "cell_type": "code",
      "metadata": {
        "id": "uD1_dDwriyFm"
      },
      "source": [
        "import importlib\n",
        "importlib.import_module('price_target_data')\n",
        "\n",
        "from price_target_data import dataList"
      ],
      "execution_count": null,
      "outputs": []
    },
    {
      "cell_type": "code",
      "metadata": {
        "id": "6fRaHeGHq9mM"
      },
      "source": [
        "import matplotlib.pyplot as plt\n",
        "\n",
        "plt.plot(dataList())\n",
        "plt.ylabel('Price Targets')\n",
        "plt.show()"
      ],
      "execution_count": null,
      "outputs": []
    },
    {
      "cell_type": "code",
      "metadata": {
        "id": "HLZFKr-U5f38"
      },
      "source": [
        "import numpy as np\n",
        "import math\n",
        "from math import log\n",
        "from math import pi"
      ],
      "execution_count": null,
      "outputs": []
    },
    {
      "cell_type": "code",
      "metadata": {
        "id": "vLVJuusDE9yA"
      },
      "source": [
        "class error(Exception):\n",
        "  \"\"\"General class for throwing exceptions\"\"\"\n",
        "  pass"
      ],
      "execution_count": null,
      "outputs": []
    },
    {
      "cell_type": "code",
      "metadata": {
        "id": "Qnk6YZvdFA4c"
      },
      "source": [
        "class gaussian:\n",
        "  mean = None\n",
        "  cov = None\n",
        "  covdet = math.nan\n",
        "\n",
        "  def __init__(self, mu, Omega):\n",
        "    self.mean = mu\n",
        "    self.cov = Omega\n",
        "\n",
        "  def getcovdet(self):\n",
        "    if(math.isnan(self.covdet)):\n",
        "      self.covdet = np.linalg.det(cov)\n",
        "    return self.covdet\n",
        "\n",
        "  def logdens(self, x):\n",
        "    d = mean.size\n",
        "    xmm = np.subtract(mean)\n",
        "    return (-d / 2.0) * log(2 * pi) - 0.5 * log(getcovdet()) - 0.5 * np.dot(xmm, getcovinv() @ xmm)"
      ],
      "execution_count": null,
      "outputs": []
    },
    {
      "cell_type": "code",
      "metadata": {
        "id": "Zfsj-xyntErg"
      },
      "source": [
        "class gaussian_indexed:\n",
        "  g = None #Gaussian\n",
        "  k = None\n",
        "\n",
        "  def __init__(self, gauss, i):\n",
        "    self.g = gauss\n",
        "    self.k = i\n",
        "  \n",
        "  def index(self):\n",
        "    return self.k\n",
        "\n",
        "  def mean(self):\n",
        "    return self.g.mean\n",
        "\n",
        "  def covs(self):\n",
        "    return self.g.cov"
      ],
      "execution_count": null,
      "outputs": []
    },
    {
      "cell_type": "code",
      "metadata": {
        "id": "sZ3rpHEc7Aew"
      },
      "source": [
        "class vect_indexed:\n",
        "  vector = None\n",
        "  k = None\n",
        "\n",
        "  def __init__(self, vec, i):\n",
        "    self.vector = vec\n",
        "    self.k = i\n",
        "\n",
        "  def index(self):\n",
        "    return self.k\n",
        "  \n",
        "  def __str__(self):\n",
        "    return str(self.vector) + \" at index \" + str(self.k)"
      ],
      "execution_count": null,
      "outputs": []
    },
    {
      "cell_type": "code",
      "metadata": {
        "id": "e6RfFdPqV9ux"
      },
      "source": [
        "#observation\n",
        "class observation(vect_indexed):\n",
        "  pass"
      ],
      "execution_count": null,
      "outputs": []
    },
    {
      "cell_type": "code",
      "metadata": {
        "id": "hvfjJL9uWEVd"
      },
      "source": [
        "#state prediction density\n",
        "class sp_dens(gaussian_indexed):\n",
        "  pass"
      ],
      "execution_count": null,
      "outputs": []
    },
    {
      "cell_type": "code",
      "metadata": {
        "id": "s3qpd-dYWEcE"
      },
      "source": [
        "#obs prediction density\n",
        "class op_dens(gaussian_indexed):\n",
        "  pass"
      ],
      "execution_count": null,
      "outputs": []
    },
    {
      "cell_type": "code",
      "metadata": {
        "id": "y6NbPRoXWV5Y"
      },
      "source": [
        "#filter density\n",
        "class filter_dens(gaussian_indexed):\n",
        "  pass"
      ],
      "execution_count": null,
      "outputs": []
    },
    {
      "cell_type": "code",
      "metadata": {
        "id": "z3fj1iMQWV1w"
      },
      "source": [
        "#kalman triple\n",
        "class kalman_triple:\n",
        "  spd = None #state prediction density\n",
        "  opd = None #observation prediction density\n",
        "  fd = None #filter density\n",
        "  y = None #observation\n",
        "  k = None #integer\n",
        "\n",
        "  def __init__(self, spd1, opd1, fd1, y1):\n",
        "    self.spd = spd1\n",
        "    self.opd = opd1\n",
        "    self.fd = fd1\n",
        "    self.y = y1\n",
        "    self.k = spd1.index()\n",
        "\n",
        "  def normsqerror(self):\n",
        "    tmp = np.subtract(self.y.self.opd.mean())\n",
        "    return np.dot(tmp, tmp)"
      ],
      "execution_count": null,
      "outputs": []
    },
    {
      "cell_type": "code",
      "metadata": {
        "id": "C18Y5Lg4qxHb"
      },
      "source": [
        "class kalman_model:\n",
        "  A = None\n",
        "  H = None\n",
        "  Q = None\n",
        "  R = None\n",
        "  At = None\n",
        "  Ht = None\n",
        "  prior = None\n",
        "\n",
        "  def __init__(self, a1, h1, q1, r1, prior1):\n",
        "    self.A = a1 \n",
        "    self.H = h1\n",
        "    self.Q = q1\n",
        "    self.R = r1\n",
        "\n",
        "    self.At = A.T\n",
        "    self.Ht = H.T\n",
        "\n",
        "    self.prior = prior1\n",
        "\n",
        "  def update(self, spd, y): #returns Kalman triple\n",
        "    if(y.index() != spd.index()):\n",
        "      raise error(\"y.index() = \" + str(y.index() + \"does not equal spd.index() = \" + str(spd.index())))\n",
        "\n",
        "    if(not isinstance(y, obs)):\n",
        "      raise error(\"y is a \" + type(y).__name__ + \" not an observation\")\n",
        "\n",
        "    if(not isinstance(spd, sp_dens)):\n",
        "      raise error(\"spd is a \" + type(y).__name__ + \"not a state prediction density\")\n",
        "\n",
        "    m_k_minus = spd.mean()\n",
        "    v = np.subtract(y.vector, self.H @ m_k_minus)\n",
        "    \n",
        "    S = self.computeS(spd)\n",
        "    \n",
        "    Sinv = np.linalg.inv(S)\n",
        "    K = spd.cov() @ (self.Ht @ Sinv)\n",
        "\n",
        "    p = np.subtract(spd.cov(), K @ (S @K.T))\n",
        "    f = filter_dens(gaussian(m_k, P), y.index())\n",
        "\n",
        "    opd = op_dens(gaussian(self.H @ m_k_minus, S), y.index())\n",
        "    return kalman_triple(spd, opd, f, y)\n",
        "\n",
        "  def computeS(self, spd): \n",
        "    return np.add(self.H @ (spd.cov() @ self.Ht), self.R)\n",
        "\n",
        "  # f needs to be filter density\n",
        "  def prediction(self, f): #return state prediction density\n",
        "    if(not isinstance(f, filter_dens)):\n",
        "      raise error(\"f is a \" + type(f).__name__ + \"not a filter density\")\n",
        "\n",
        "    m_minus = self.A @ f.mean()\n",
        "    X = np.add(self.A @ (f.cov() @ self.At), self.Q)\n",
        "    return sp_dens(gaussian(m_minus, X), f.index() + 1)\n",
        "  \n",
        "  def filter(self, ys):\n",
        "    # ys needs to be list of observation/obs\n",
        "    if(not isinstance(ys[0], observation)):\n",
        "      raise error(\"ys[0] is a \" + type(ys[0]).__name__ + \"not an obsercation\")\n",
        "\n",
        "    result = []\n",
        "    prev = filter_dens(self.prior, 0) #use index 0 for prior\n",
        "\n",
        "    for y in ys:\n",
        "      pred = self.prediction(prev)\n",
        "      triple = self.update(pred, y)\n",
        "      result.append(triple)\n",
        "      prev = triple.fd\n",
        "\n",
        "    return result"
      ],
      "execution_count": null,
      "outputs": []
    },
    {
      "cell_type": "markdown",
      "metadata": {
        "id": "pbrVC73J_hJo"
      },
      "source": [
        "### Note ###\n",
        "---\n",
        "*We want to consider the vector of parameters and create from this our desired Kalman model.*\n",
        "\n",
        "*A serves as our transition matrix and H as our observation matrix. We will implement the model based on the function:* y = x_1 + noise\n",
        "\n",
        "*As well as the matrix equations invoking alpha, Beta, and gamma as our parameters to be fit.*"
      ]
    },
    {
      "cell_type": "code",
      "metadata": {
        "id": "nZ1OhaJ4_daC"
      },
      "source": [
        "#return kalman model\n",
        "def model_k(params, prior):\n",
        "  h = np.array([[1.0, 0.0]])\n",
        "  r = np.array([params[0]])\n",
        "  q = np.diag([params[1], params[2]])\n",
        "  a = np.array([[params[3], params[4]], [0.0, params[5]]])\n",
        "  return kalman_model(a, h, q, r, prior)"
      ],
      "execution_count": null,
      "outputs": []
    },
    {
      "cell_type": "code",
      "metadata": {
        "id": "qZwsthecBLKz"
      },
      "source": [
        "# testing out kalman model with artificial parameters\n",
        "\n",
        "common_prior = gaussian(np.array([dataList()[1], 0.0]), np.eye(2))\n",
        "\n",
        "params1 = [0.02938409328783209, #r\n",
        "           4.290127348917587E-4, 3.110938894283071, #q\n",
        "           0.920746815344842345, #alpha\n",
        "           0.2987321987332179, #beta\n",
        "           2.01283409178758217598128] #gamma\n",
        "  \n",
        "kf1 = model_k(params1, common_prior)"
      ],
      "execution_count": null,
      "outputs": []
    },
    {
      "cell_type": "markdown",
      "metadata": {
        "id": "8Gh1N6v4Cc1M"
      },
      "source": [
        ""
      ]
    },
    {
      "cell_type": "code",
      "metadata": {
        "id": "HST5XhF7Cc_j"
      },
      "source": [
        "def obs_list(L):\n",
        "  ys = []\n",
        "  j = 0\n",
        "\n",
        "  for obs in L:\n",
        "    j = j + 1\n",
        "    ys.append(observation()"
      ],
      "execution_count": null,
      "outputs": []
    }
  ]
}
