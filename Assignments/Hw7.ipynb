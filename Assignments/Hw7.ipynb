{
  "nbformat": 4,
  "nbformat_minor": 5,
  "metadata": {
    "kernelspec": {
      "display_name": "Python 3",
      "language": "python",
      "name": "python3"
    },
    "language_info": {
      "codemirror_mode": {
        "name": "ipython",
        "version": 3
      },
      "file_extension": ".py",
      "mimetype": "text/x-python",
      "name": "python",
      "nbconvert_exporter": "python",
      "pygments_lexer": "ipython3",
      "version": "3.9.1"
    },
    "colab": {
      "name": "5440_hw7_chb2132.ipynb",
      "provenance": [],
      "collapsed_sections": []
    }
  },
  "cells": [
    {
      "cell_type": "markdown",
      "metadata": {
        "id": "f7a809aa"
      },
      "source": [
        "#`ASSIGNMENT 7: BACKPROPAGATION | UNI: CHB2132 `#\n",
        "##`5440 FIN. M.L./QUANT. | SPRING 2021 | PROF.  RITTER`\n",
        "\n",
        "---"
      ],
      "id": "f7a809aa"
    },
    {
      "cell_type": "markdown",
      "metadata": {
        "id": "af8e7d48"
      },
      "source": [
        "### **`Problem 1`**\n",
        "\n",
        "#### *Show that matrix elements of 𝑑𝑓𝑥 w.r.t. standard basis/eigen vectors $𝑒_1 = (1,0,0,...)$, $𝑒_2 = (0,1,0,...),$ $...$ will be partial derivatives of $f$ along coordinate directions and $\\therefore$ the Jacobian is the matrix associated to linear transformation 𝑑𝑓𝑥.*\n",
        "---"
      ],
      "id": "af8e7d48"
    },
    {
      "cell_type": "markdown",
      "metadata": {
        "id": "64d495c7"
      },
      "source": [
        "*  *Consider a smooth map:* **𝑓 : R𝑛 → R𝑚.**\n",
        "\n",
        "*  Linear transform with assumptions:\n",
        "    * 𝑒1, 𝑒2, ... , 𝑒𝑛 = standard ordered bases in 𝑅𝑛\n",
        "    * 𝑢1, 𝑢2, ... , 𝑢𝑚 = standard ordered bases in 𝑅𝑚\n",
        "\n",
        "* Then, $𝑇(𝑒_𝑖)$ = $𝑓′(𝑎;𝑒_𝑖) = 𝐷_𝑖 𝑓(𝑎)$, where 𝑖 = 1, 2, ..., 𝑛\n",
        "\n",
        "* Now, let $𝑓_1, 𝑓_2, ... , 𝑓_𝑚$ : 𝐴 $\\rightarrow$ 𝑅\n",
        "\n",
        "* For each 𝑖 = 1, 2, ... , 𝑛 we have: \n",
        "\n",
        "    * **$𝐷_𝑖 𝑓(𝑎) = (𝐷_𝑖 𝑓_1(𝑎), 𝐷_𝑖 𝑓_2(𝑎), . . . , 𝐷_𝑖 𝑓_𝑚(𝑎))$**\n",
        "\n",
        "    * $\\rightarrow$ $\\Sigma^{m}_{𝑗 = 1}$ $𝐷_{𝑖}𝑓_{𝑗}(𝑎)𝑢_{𝑗}$\n",
        "    \n",
        "    * $\\rightarrow$ $𝑇(𝑒_𝑖)$ = $\\Sigma_{j = 1}^{m} 𝐷_{𝑖}𝑓_j(𝑎)𝑢_𝑗$\n",
        "\n",
        "    * $\\therefore$ matrix representation is given by:\n",
        "    \n",
        "        $[𝑇] = 𝐷𝑓(𝑎) = [𝑓′(𝑎)] =$ $(𝐷_{i}𝑓_{j}(𝑎))_{mxn}$\n",
        "    \n",
        "        $[𝐷_1 𝑓_1(𝑎) 𝐷_2 𝑓_1(𝑎) ... 𝐷_n 𝑓_1(𝑎)]$\n",
        "\n",
        "        $[𝐷_1 𝑓_2(𝑎) 𝐷_2 𝑓_2(𝑎) ... 𝐷_n 𝑓_2(𝑎)]$\n",
        "\n",
        "        $[.    .    .    ...    .]$\n",
        "        \n",
        "        $[𝐷_1 𝑓_𝑚(𝑎) 𝐷_2 𝑓_𝑚(𝑎) ... 𝐷_𝑛 𝑓_𝑚(𝑎)]$\n",
        "\n",
        "*defined as the Jacobian Matrix of the vector field at the point 𝑎, Q.E.D.*"
      ],
      "id": "64d495c7"
    },
    {
      "cell_type": "markdown",
      "metadata": {
        "id": "dmGG3ZZipH_A"
      },
      "source": [
        "**Source**\n",
        "---\n",
        "```\n",
        "Wikipedia. 2021. Jacobian Matrix and Determinant. https://en.wikipedia.org/wiki/Jacobian_matrix_and_determinant.\n",
        "Asim, Haseeb. 2021. 5440 Homework 7: Backpropagation. Columbia University in the city of New York.\n",
        "```"
      ],
      "id": "dmGG3ZZipH_A"
    },
    {
      "cell_type": "markdown",
      "metadata": {
        "id": "0f7a5364"
      },
      "source": [
        "`Problem 2`\n",
        "---\n",
        "**Use Keras to perform multivariate OLS linear regression. Use a sequential model w/ single connection** *(dense layer w/ linear activation)*. **Generate training data from known linear model + train with: `optimizer ='sgd', loss='mse'`. Verify you get the expected result.**"
      ],
      "id": "0f7a5364"
    },
    {
      "cell_type": "code",
      "metadata": {
        "id": "UdhwHJSJpTmw"
      },
      "source": [
        "# import req. libs/pkgs\n",
        "\n",
        "import numpy as np\n",
        "import pandas as pd\n",
        "\n",
        "import tensorflow as tf\n",
        "import matplotlib.pyplot as plt\n",
        "\n",
        "from tensorflow import keras\n",
        "from tensorflow.keras import layers\n",
        "from tensorflow.keras import activations\n",
        "\n",
        "from keras.optimizers import SGD \n",
        "from keras.models import Sequential\n",
        "from keras.layers import Dense, Activation"
      ],
      "id": "UdhwHJSJpTmw",
      "execution_count": null,
      "outputs": []
    },
    {
      "cell_type": "code",
      "metadata": {
        "id": "H0v7_OmrCOhw"
      },
      "source": [
        "df = pd.read_csv('identity_data.csv')\n",
        "\n",
        "X = df.iloc[:,0]\n",
        "y = df.iloc[:,1]"
      ],
      "id": "H0v7_OmrCOhw",
      "execution_count": null,
      "outputs": []
    },
    {
      "cell_type": "markdown",
      "metadata": {
        "id": "2O_n0TwxwoHI"
      },
      "source": [
        "#### `Prepare training data w. model + opt/loss parameters`\n",
        "\n",
        "---"
      ],
      "id": "2O_n0TwxwoHI"
    },
    {
      "cell_type": "code",
      "metadata": {
        "colab": {
          "base_uri": "https://localhost:8080/"
        },
        "id": "ZuPWyPUYqS3M",
        "outputId": "9a60493a-74b7-4195-db16-9f58069cdddc"
      },
      "source": [
        "# setup seq model w/ linear activation func. relu\n",
        "\n",
        "sgd = SGD(0.01) #que\n",
        "\n",
        "model = Sequential()\n",
        "model.add(Dense(1, input_dim=1))\n",
        "model.add(Activation('linear'))\n",
        "\n",
        "model.compile(optimizer='sgd', loss='mse')\n",
        "model.fit(X, y, batch_size=32, epochs=10)"
      ],
      "id": "ZuPWyPUYqS3M",
      "execution_count": null,
      "outputs": [
        {
          "output_type": "stream",
          "text": [
            "Epoch 1/10\n",
            "1/1 [==============================] - 0s 399ms/step - loss: 197979770139392868352.0000\n",
            "Epoch 2/10\n",
            "1/1 [==============================] - 0s 7ms/step - loss: 8024272873468685451264.0000\n",
            "Epoch 3/10\n",
            "1/1 [==============================] - 0s 5ms/step - loss: 846387851051155194904576.0000\n",
            "Epoch 4/10\n",
            "1/1 [==============================] - 0s 9ms/step - loss: 90651137300976068227760128.0000\n",
            "Epoch 5/10\n",
            "1/1 [==============================] - 0s 10ms/step - loss: 9710454034476451417804505088.0000\n",
            "Epoch 6/10\n",
            "1/1 [==============================] - 0s 6ms/step - loss: 1040175037884899576610524495872.0000\n",
            "Epoch 7/10\n",
            "1/1 [==============================] - 0s 8ms/step - loss: 111422582446093681293474240921600.0000\n",
            "Epoch 8/10\n",
            "1/1 [==============================] - 0s 7ms/step - loss: 11935484998286379665454615486267392.0000\n",
            "Epoch 9/10\n",
            "1/1 [==============================] - 0s 5ms/step - loss: 1278518168823986012155734441955688448.0000\n",
            "Epoch 10/10\n",
            "1/1 [==============================] - 0s 7ms/step - loss: inf\n"
          ],
          "name": "stdout"
        },
        {
          "output_type": "execute_result",
          "data": {
            "text/plain": [
              "<tensorflow.python.keras.callbacks.History at 0x7fc0bdb5f590>"
            ]
          },
          "metadata": {
            "tags": []
          },
          "execution_count": 40
        }
      ]
    },
    {
      "cell_type": "markdown",
      "metadata": {
        "id": "cXPhaxMewi_A"
      },
      "source": [
        "#### `Check the equivalence of the outcome and the expected result`\n",
        "---"
      ],
      "id": "cXPhaxMewi_A"
    },
    {
      "cell_type": "code",
      "metadata": {
        "colab": {
          "base_uri": "https://localhost:8080/",
          "height": 276
        },
        "id": "2y7AKjVswD7g",
        "outputId": "eff32caa-68ef-4e4e-a594-5b0d86f2c8d5"
      },
      "source": [
        "# Evaluate the model on test data and predict results\n",
        "\n",
        "history = model.fit(X, y, epochs=500,verbose=0)\n",
        "pred = model.predict(X)\n",
        "\n",
        "plt.scatter(X, y, c='blue')\n",
        "plt.plot(X, pred, color='g')\n",
        "plt.show()"
      ],
      "id": "2y7AKjVswD7g",
      "execution_count": null,
      "outputs": [
        {
          "output_type": "display_data",
          "data": {
            "image/png": "[encoded data removed]",
            "text/plain": [
              "<Figure size 432x288 with 1 Axes>"
            ]
          },
          "metadata": {
            "tags": [],
            "needs_background": "light"
          }
        }
      ]
    },
    {
      "cell_type": "markdown",
      "metadata": {
        "id": "BIxoOvR-qCW8"
      },
      "source": [
        "**Sources**\n",
        "---\n",
        "```\n",
        "Ritter, W. G. 2021. Supplemental Notes: 5440 Course. Columbia University in the city of New York.\n",
        "Keras. 2021. Getting Started: Intro to Keras for Researchers. https://keras.io/getting_started/intro_to_keras_for_researchers.\n",
        "Keras Team. 2021. Colab Guide: Intro to Keras for Researchers. https://colab.research.google.com/github/keras-team/keras-io/blob/master/guides/ipynb/intro_to_keras_for_researchers.ipynb#scrollTo=4QzEQpnzpew0\n",
        "Tensorflow. 2021. Keras: Train and Evaluate. https://colab.research.google.com/github/tensorflow/docs/blob/snapshot-keras/site/en/guide/keras/train_and_evaluate.ipynb#scrollTo=69f524a93f9d.\n",
        "```"
      ],
      "id": "BIxoOvR-qCW8"
    }
  ]
}
