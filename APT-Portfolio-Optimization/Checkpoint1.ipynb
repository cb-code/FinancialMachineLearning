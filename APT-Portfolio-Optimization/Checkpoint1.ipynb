{
  "nbformat": 4,
  "nbformat_minor": 0,
  "metadata": {
    "kernelspec": {
      "display_name": "5440_Env",
      "language": "python",
      "name": "5440_env"
    },
    "language_info": {
      "codemirror_mode": {
        "name": "ipython",
        "version": 3
      },
      "file_extension": ".py",
      "mimetype": "text/x-python",
      "name": "python",
      "nbconvert_exporter": "python",
      "pygments_lexer": "ipython3",
      "version": "3.8.5"
    },
    "colab": {
      "name": "5440 Project Checkpoint 1.ipynb",
      "provenance": [],
      "collapsed_sections": []
    }
  },
  "cells": [
    {
      "cell_type": "markdown",
      "metadata": {
        "id": "PR_s_Y4duwNV"
      },
      "source": [
        "# Checkpoint 1\n",
        "---\n",
        "**Group 1: Haseeb Asim, Chloé Blanchard, Olatoyosi Fatoki**"
      ]
    },
    {
      "cell_type": "markdown",
      "metadata": {
        "id": "r9KNnDAPuxJX"
      },
      "source": [
        "*from Professor Ritter, Columbia Unviersity 5440 Course Notes*"
      ]
    },
    {
      "cell_type": "markdown",
      "metadata": {
        "id": "GaAgP8u_ynjU"
      },
      "source": [
        "### Setup\n",
        "---"
      ]
    },
    {
      "cell_type": "code",
      "metadata": {
        "id": "LWMpLF4ouwNS"
      },
      "source": [
        "import pandas as pd\n",
        "import numpy as np\n",
        "import matplotlib.pyplot as plt\n",
        "import pickle\n",
        "from statsmodels.formula.api import ols \n",
        "from scipy.stats import gaussian_kde \n",
        "import scipy\n",
        "import scipy.sparse\n",
        "import patsy\n",
        "from statistics import median\n",
        "import bz2\n",
        "import os"
      ],
      "execution_count": null,
      "outputs": []
    },
    {
      "cell_type": "code",
      "metadata": {
        "id": "-ywiz6M5uwNV",
        "outputId": "93c581fa-7a29-4dac-906f-cc70312d2da3"
      },
      "source": [
        "os.getcwd()"
      ],
      "execution_count": null,
      "outputs": [
        {
          "output_type": "execute_result",
          "data": {
            "text/plain": [
              "'/Users/haseebasim/Google Drive/Documents/APANPS5440_Project'"
            ]
          },
          "metadata": {
            "tags": []
          },
          "execution_count": 4
        }
      ]
    },
    {
      "cell_type": "code",
      "metadata": {
        "id": "F2G0yr2QuwNX"
      },
      "source": [
        "model_dir = '/Users/haseebasim/Google Drive/Documents/APANPS5440_Project/' \n",
        "\n",
        "def sort_cols(test):\n",
        "    return(test.reindex(sorted(test.columns), axis=1))\n",
        "\n",
        "frames = {}\n",
        "for year in [2003,2004,2005,2006,2007,2008,2009,2010]:\n",
        "    fil = model_dir + \"pandas-frames.\" + str(year) + \".pickle.bz2\"\n",
        "    frames.update(pickle.load( bz2.open( fil, \"rb\" ) ))"
      ],
      "execution_count": null,
      "outputs": []
    },
    {
      "cell_type": "markdown",
      "metadata": {
        "id": "8oG8iMDLyf-K"
      },
      "source": [
        "### Problem 1\n",
        "---"
      ]
    },
    {
      "cell_type": "code",
      "metadata": {
        "id": "zz3dgTCuylMR"
      },
      "source": [
        "for x in frames:\n",
        "    frames[x] = sort_cols(frames[x])\n",
        "\n",
        "covariance = {}\n",
        "for year in [2003,2004,2005,2006,2007,2008,2009,2010]:\n",
        "    fil = model_dir + \"covariance.\" + str(year) + \".pickle.bz2\"\n",
        "    covariance.update(pickle.load( bz2.open(fil, \"rb\" ) ))"
      ],
      "execution_count": null,
      "outputs": []
    },
    {
      "cell_type": "markdown",
      "metadata": {
        "id": "2D3opqpNxgOj"
      },
      "source": [
        "### Problem 2\n",
        "---"
      ]
    },
    {
      "cell_type": "code",
      "metadata": {
        "id": "XKdDtV-lxiKi"
      },
      "source": [
        "def wins(x,a,b):\n",
        "    return(np.where(x <= a,a, np.where(x >= b, b, x)))"
      ],
      "execution_count": null,
      "outputs": []
    },
    {
      "cell_type": "markdown",
      "metadata": {
        "id": "vUSyvag8xyI3"
      },
      "source": [
        "### Problem 3\n",
        "---"
      ]
    },
    {
      "cell_type": "code",
      "metadata": {
        "id": "B8XzsCMpuwNX"
      },
      "source": [
        "def clean_nas(df):\n",
        "    numeric_columns = df.select_dtypes(include=[np.number]).columns.tolist()\n",
        "    for numeric_column in numeric_columns:\n",
        "        df[numeric_column] = np.nan_to_num(df[numeric_column])\n",
        "    return df"
      ],
      "execution_count": null,
      "outputs": []
    },
    {
      "cell_type": "markdown",
      "metadata": {
        "id": "OlYRCqfaxeNt"
      },
      "source": [
        "### Problem 4\n",
        "---"
      ]
    },
    {
      "cell_type": "markdown",
      "metadata": {
        "id": "td0_Fw-NuwNX"
      },
      "source": [
        "*Q: Why might it be important to re-run this after passing it through bounds of b = -0.2 and b = 0.2 when running a regression with \"Ret\" as the \"Y variable\"?*\n",
        "\n",
        "**A: Winsorized estimators are usually more robust to outliers than their more standard forms. Before any kind of winsorization, the returns can be observed to have a very heavy right tail. We therefore want to run the data through a bounded domain of length 1 here so as to normalize our data and generate results that are robust to the particular skew to the RHS.**"
      ]
    },
    {
      "cell_type": "markdown",
      "metadata": {
        "id": "dhaGerQt0eCg"
      },
      "source": [
        "-\n",
        "\n",
        "-\n",
        "\n",
        "-\n",
        "\n",
        "-\n",
        "\n",
        "-\n",
        "\n",
        "-\n",
        "\n",
        "-"
      ]
    },
    {
      "cell_type": "code",
      "metadata": {
        "id": "1zdDmItAuwNX",
        "outputId": "4c22f36e-f3d3-4a39-b469-15f4ff7a8f34"
      },
      "source": [
        "def density_plot(data, title):\n",
        "    density = gaussian_kde(data)\n",
        "    xs = np.linspace(np.min(data),np.max(data),200) \n",
        "    density.covariance_factor = lambda : .25 \n",
        "    density._compute_covariance() \n",
        "    plt.plot(xs,density(xs))\n",
        "    plt.title(title)\n",
        "    plt.show()\n",
        "test = frames['20040102']\n",
        "density_plot(test['Ret'], 'Daily return pre-winsorization')\n",
        "density_plot(wins(test['Ret'],-0.2,0.2), 'Daily return winsorized')"
      ],
      "execution_count": null,
      "outputs": [
        {
          "output_type": "display_data",
          "data": {
            "image/png": "[encoded data removed]",
            "text/plain": [
              "<Figure size 432x288 with 1 Axes>"
            ]
          },
          "metadata": {
            "tags": [],
            "needs_background": "light"
          }
        },
        {
          "output_type": "display_data",
          "data": {
            "image/png": "[encoded data removed]",
            "text/plain": [
              "<Figure size 432x288 with 1 Axes>"
            ]
          },
          "metadata": {
            "tags": [],
            "needs_background": "light"
          }
        }
      ]
    }
  ]
}
