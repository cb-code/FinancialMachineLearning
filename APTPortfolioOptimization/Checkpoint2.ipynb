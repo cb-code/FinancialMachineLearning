{
  "nbformat": 4,
  "nbformat_minor": 0,
  "metadata": {
    "colab": {
      "name": "5440_Group1_Checkpoint2.ipynb",
      "provenance": [],
      "collapsed_sections": [],
      "toc_visible": true
    },
    "kernelspec": {
      "display_name": "5440_Env",
      "language": "python",
      "name": "5440_env"
    },
    "language_info": {
      "codemirror_mode": {
        "name": "ipython",
        "version": 3
      },
      "file_extension": ".py",
      "mimetype": "text/x-python",
      "name": "python",
      "nbconvert_exporter": "python",
      "pygments_lexer": "ipython3",
      "version": "3.8.5"
    }
  },
  "cells": [
    {
      "cell_type": "markdown",
      "metadata": {
        "id": "ZfMXMHtCzyoP"
      },
      "source": [
        "# Checkpoint 1\n",
        "---\n",
        "**Group 1: Haseeb Asim, Chloé Blanchard, Olatoyosi Fatoki**"
      ]
    },
    {
      "cell_type": "markdown",
      "metadata": {
        "id": "r9KNnDAPuxJX"
      },
      "source": [
        "*from Professor Ritter, Columbia Unviersity 5440 Course Notes*"
      ]
    },
    {
      "cell_type": "markdown",
      "metadata": {
        "id": "EuuXze7kz1QY"
      },
      "source": [
        "### Setup\n",
        "---"
      ]
    },
    {
      "cell_type": "code",
      "metadata": {
        "id": "LWMpLF4ouwNS"
      },
      "source": [
        "import pandas as pd\n",
        "import numpy as np\n",
        "import matplotlib.pyplot as plt\n",
        "import pickle\n",
        "from statsmodels.formula.api import ols \n",
        "from scipy.stats import gaussian_kde \n",
        "import scipy\n",
        "import scipy.sparse\n",
        "import patsy\n",
        "from statistics import median\n",
        "import bz2\n",
        "import os"
      ],
      "execution_count": null,
      "outputs": []
    },
    {
      "cell_type": "code",
      "metadata": {
        "colab": {
          "base_uri": "https://localhost:8080/",
          "height": 35
        },
        "id": "-ywiz6M5uwNV",
        "outputId": "6bf57e50-76f1-420a-f82e-9a2a813f3305"
      },
      "source": [
        "os.getcwd()"
      ],
      "execution_count": null,
      "outputs": [
        {
          "output_type": "execute_result",
          "data": {
            "application/vnd.google.colaboratory.intrinsic+json": {
              "type": "string"
            },
            "text/plain": [
              "'/content'"
            ]
          },
          "metadata": {
            "tags": []
          },
          "execution_count": 6
        }
      ]
    },
    {
      "cell_type": "code",
      "metadata": {
        "id": "F2G0yr2QuwNX"
      },
      "source": [
        "model_dir = '/Users/haseebasim/Google Drive/Documents/APANPS5440_Project/' \n",
        "\n",
        "def sort_cols(test):\n",
        "    return(test.reindex(sorted(test.columns), axis=1))\n",
        "\n",
        "frames = {}\n",
        "for year in [2003,2004,2005,2006,2007,2008,2009,2010]:\n",
        "    fil = model_dir + \"pandas-frames.\" + str(year) + \".pickle.bz2\"\n",
        "    frames.update(pickle.load( bz2.open( fil, \"rb\" ) ))"
      ],
      "execution_count": null,
      "outputs": []
    },
    {
      "cell_type": "markdown",
      "metadata": {
        "id": "5cXWRDgGz5Te"
      },
      "source": [
        "### Problem 1\n",
        "---"
      ]
    },
    {
      "cell_type": "code",
      "metadata": {
        "id": "AFqc57_Qz5Fb"
      },
      "source": [
        "for x in frames:\n",
        "    frames[x] = sort_cols(frames[x])\n",
        "\n",
        "covariance = {}\n",
        "for year in [2003,2004,2005,2006,2007,2008,2009,2010]:\n",
        "    fil = model_dir + \"covariance.\" + str(year) + \".pickle.bz2\"\n",
        "    covariance.update(pickle.load( bz2.open(fil, \"rb\" ) ))"
      ],
      "execution_count": null,
      "outputs": []
    },
    {
      "cell_type": "markdown",
      "metadata": {
        "id": "k1n5e5z7z-dS"
      },
      "source": [
        "### Problem 2\n",
        "---"
      ]
    },
    {
      "cell_type": "code",
      "metadata": {
        "id": "hvVB2hA6z9-X"
      },
      "source": [
        "def wins(x,a,b):\n",
        "    return(np.where(x <= a,a, np.where(x >= b, b, x)))"
      ],
      "execution_count": null,
      "outputs": []
    },
    {
      "cell_type": "markdown",
      "metadata": {
        "id": "1OlM6vlRz_9t"
      },
      "source": [
        "### Problem 3\n",
        "---"
      ]
    },
    {
      "cell_type": "code",
      "metadata": {
        "id": "B8XzsCMpuwNX"
      },
      "source": [
        "def clean_nas(df):\n",
        "    numeric_columns = df.select_dtypes(include=[np.number]).columns.tolist()\n",
        "    for numeric_column in numeric_columns:\n",
        "        df[numeric_column] = np.nan_to_num(df[numeric_column])\n",
        "    return df"
      ],
      "execution_count": null,
      "outputs": []
    },
    {
      "cell_type": "markdown",
      "metadata": {
        "id": "I1JXckP50B50"
      },
      "source": [
        "### Problem 4\n",
        "---"
      ]
    },
    {
      "cell_type": "code",
      "metadata": {
        "id": "1zdDmItAuwNX",
        "outputId": "e29be59d-c46a-4f92-aaa8-903ba15b9d7e"
      },
      "source": [
        "def density_plot(data, title):\n",
        "    density = gaussian_kde(data)\n",
        "    xs = np.linspace(np.min(data),np.max(data),200) \n",
        "    density.covariance_factor = lambda : .25 \n",
        "    density._compute_covariance() \n",
        "    plt.plot(xs,density(xs))\n",
        "    plt.title(title)\n",
        "    plt.show()\n",
        "test = frames['20040102']\n",
        "density_plot(test['Ret'], 'Daily return pre-winsorization')\n",
        "density_plot(wins(test['Ret'],-0.2,0.2), 'Daily return winsorized')\n"
      ],
      "execution_count": null,
      "outputs": [
        {
          "output_type": "display_data",
          "data": {
            "image/png": "[encoded data removed]",
            "text/plain": [
              "<Figure size 432x288 with 1 Axes>"
            ]
          },
          "metadata": {
            "tags": [],
            "needs_background": "light"
          }
        },
        {
          "output_type": "display_data",
          "data": {
            "image/png": "[encoded data removed]",
            "text/plain": [
              "<Figure size 432x288 with 1 Axes>"
            ]
          },
          "metadata": {
            "tags": [],
            "needs_background": "light"
          }
        }
      ]
    },
    {
      "cell_type": "markdown",
      "metadata": {
        "id": "td0_Fw-NuwNX"
      },
      "source": [
        "*Q: Why might it be important to re-run this after passing it through bounds of b = -0.2 and b = 0.2 when running a regression with \"Ret\" as the \"Y variable\"?*\n",
        "\n",
        "**A: Winsorized estimators are usually more robust to outliers than their more standard forms. Before any kind of winsorization, the returns can be observed to have a very heavy right tail. We therefore want to run the data through a bounded domain of length 1 here so as to normalize our data and generate results that are robust to the particular skew to the RHS.**"
      ]
    },
    {
      "cell_type": "markdown",
      "metadata": {
        "id": "4TJ4Y_VzuwNY"
      },
      "source": [
        "# Checkpoint 2\n",
        "---\n",
        "**Group 1: Haseeb Asim, Chloé Blanchard, Olatoyosi Fatoki**"
      ]
    },
    {
      "cell_type": "markdown",
      "metadata": {
        "id": "-TqZuc7j108S"
      },
      "source": [
        "### Problem 1\n",
        "---"
      ]
    },
    {
      "cell_type": "code",
      "metadata": {
        "id": "gqADdo9t1z2I"
      },
      "source": [
        "def get_formula(factors, Y): \n",
        "    L = [\"0\"]\n",
        "    L.extend(factors)\n",
        "# print(L)\n",
        "    return Y + \" ~ \" + \" + \".join(L)"
      ],
      "execution_count": null,
      "outputs": []
    },
    {
      "cell_type": "code",
      "metadata": {
        "id": "41eo7OOouwNY"
      },
      "source": [
        "def estimate_factor_returns(df):\n",
        "   # rename df columns\n",
        "    df = df.rename(columns = {'1DREVRSL' : 'ONEDREVERSAL', 'EARNYILD' : 'EARNYIELD', 'SENTMT' : 'SENTIMENT'})\n",
        "    \n",
        "    ## build universe based on filters\n",
        "    estu = df.loc[df.IssuerMarketCap > 1e9].copy(deep=True)\n",
        "    \n",
        "    ## winsorize returns for fitting\n",
        "    estu['Ret'] = wins(estu['Ret'], -0.25, 0.25)\n",
        "#     print(list(df))\n",
        "#     all_factors = factors_from_names(list(df))\n",
        "    all_factors = ['ONEDREVERSAL','EARNYIELD', 'VALUE', 'SENTIMENT'] \n",
        "#     print(all_factors)\n",
        "    form = get_formula(all_factors, \"Ret\")\n",
        "    model = ols(form, data=estu)\n",
        "    results = model.fit()\n",
        "    return(results)"
      ],
      "execution_count": null,
      "outputs": []
    },
    {
      "cell_type": "markdown",
      "metadata": {
        "id": "g953Sx_H15lI"
      },
      "source": [
        "### Problem 2\n",
        "---"
      ]
    },
    {
      "cell_type": "code",
      "metadata": {
        "id": "r6vcVWQjuwNY"
      },
      "source": [
        "facret = {}\n",
        "\n",
        "for date in frames:\n",
        "    facret[date] = estimate_factor_returns(frames[date]).params"
      ],
      "execution_count": null,
      "outputs": []
    },
    {
      "cell_type": "code",
      "metadata": {
        "id": "jJ4ys7CWuwNY",
        "outputId": "146a998a-706b-481a-8e1e-8b8dd2ee3704"
      },
      "source": [
        "alpha_factors = ['ONEDREVERSAL','EARNYIELD', 'VALUE', 'SENTIMENT'] \n",
        "my_dates = sorted(list(map(lambda date: pd.to_datetime(date, format='%Y%m%d'),frames.keys())))\n",
        "\n",
        "facret_df = pd.DataFrame(index = my_dates) \n",
        "for dt in my_dates:\n",
        "     for alp in alpha_factors:\n",
        "        facret_df.at[dt, alp] = facret[dt.strftime('%Y%m%d')][alp]\n",
        "\n",
        "facret_df.cumsum().plot()"
      ],
      "execution_count": null,
      "outputs": [
        {
          "output_type": "execute_result",
          "data": {
            "text/plain": [
              "<AxesSubplot:>"
            ]
          },
          "metadata": {
            "tags": []
          },
          "execution_count": 14
        },
        {
          "output_type": "display_data",
          "data": {
            "image/png": "[encoded data removed]",
            "text/plain": [
              "<Figure size 432x288 with 1 Axes>"
            ]
          },
          "metadata": {
            "tags": [],
            "needs_background": "light"
          }
        }
      ]
    }
  ]
}
